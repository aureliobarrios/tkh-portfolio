{
 "cells": [
  {
   "cell_type": "code",
   "execution_count": 1,
   "id": "cac6bbd8",
   "metadata": {},
   "outputs": [],
   "source": [
    "import pandas as pd"
   ]
  },
  {
   "cell_type": "code",
   "execution_count": 2,
   "id": "9e3a001b",
   "metadata": {},
   "outputs": [],
   "source": [
    "df = pd.read_csv(\"data/raw/shopping_behavior_updated.csv\")"
   ]
  },
  {
   "cell_type": "code",
   "execution_count": 3,
   "id": "08a91407",
   "metadata": {},
   "outputs": [],
   "source": [
    "df = df[[\n",
    "    \"Customer ID\",\n",
    "    \"Age\",\n",
    "    \"Gender\",\n",
    "    \"Item Purchased\",\n",
    "    \"Category\",\n",
    "    \"Purchase Amount (USD)\",\n",
    "    \"Location\",\n",
    "    \"Size\",\n",
    "    \"Color\",\n",
    "    \"Season\",\n",
    "    \"Review Rating\",\n",
    "    \"Subscription Status\",\n",
    "    \"Shipping Type\",\n",
    "    \"Promo Code Used\",\n",
    "    \"Previous Purchases\",\n",
    "    \"Payment Method\",\n",
    "    \"Frequency of Purchases\"\n",
    "]]"
   ]
  },
  {
   "cell_type": "code",
   "execution_count": 4,
   "id": "18573d92",
   "metadata": {},
   "outputs": [
    {
     "data": {
      "text/plain": [
       "array(['Venmo', 'Cash', 'Credit Card', 'PayPal', 'Bank Transfer',\n",
       "       'Debit Card'], dtype=object)"
      ]
     },
     "execution_count": 4,
     "metadata": {},
     "output_type": "execute_result"
    }
   ],
   "source": [
    "payment_methods = df['Payment Method'].unique()\n",
    "payment_methods"
   ]
  },
  {
   "cell_type": "code",
   "execution_count": 5,
   "id": "5c335bb5",
   "metadata": {},
   "outputs": [],
   "source": [
    "ny = df[df.Location == \"New York\"]"
   ]
  },
  {
   "cell_type": "code",
   "execution_count": 6,
   "id": "fb49a6e3",
   "metadata": {},
   "outputs": [],
   "source": [
    "def find_pop_payment(df, state):\n",
    "    payment_methods = df['Payment Method'].unique()\n",
    "    state_df = df[df.Location == state]\n",
    "    \n",
    "    most_frequent_method = {}\n",
    "    for method in payment_methods:\n",
    "        most_frequent_method[method] = len(state_df[state_df['Payment Method'] == method])\n",
    "    return most_frequent_method"
   ]
  },
  {
   "cell_type": "code",
   "execution_count": 7,
   "id": "a1cb349b",
   "metadata": {},
   "outputs": [
    {
     "data": {
      "text/plain": [
       "0            Kentucky\n",
       "1               Maine\n",
       "2       Massachusetts\n",
       "3        Rhode Island\n",
       "4              Oregon\n",
       "            ...      \n",
       "3895         Virginia\n",
       "3896             Iowa\n",
       "3897       New Jersey\n",
       "3898        Minnesota\n",
       "3899       California\n",
       "Name: Location, Length: 3900, dtype: object"
      ]
     },
     "execution_count": 7,
     "metadata": {},
     "output_type": "execute_result"
    }
   ],
   "source": [
    "df['Location']"
   ]
  },
  {
   "cell_type": "code",
   "execution_count": 8,
   "id": "ce58c287",
   "metadata": {},
   "outputs": [
    {
     "data": {
      "text/plain": [
       "{'Venmo': 16,\n",
       " 'Cash': 16,\n",
       " 'Credit Card': 19,\n",
       " 'PayPal': 20,\n",
       " 'Bank Transfer': 7,\n",
       " 'Debit Card': 17}"
      ]
     },
     "execution_count": 8,
     "metadata": {},
     "output_type": "execute_result"
    }
   ],
   "source": [
    "find_pop_payment(df, \"California\")"
   ]
  },
  {
   "cell_type": "code",
   "execution_count": null,
   "id": "b6dbe6b0",
   "metadata": {},
   "outputs": [],
   "source": []
  }
 ],
 "metadata": {
  "kernelspec": {
   "display_name": "Python 3",
   "language": "python",
   "name": "python3"
  },
  "language_info": {
   "codemirror_mode": {
    "name": "ipython",
    "version": 3
   },
   "file_extension": ".py",
   "mimetype": "text/x-python",
   "name": "python",
   "nbconvert_exporter": "python",
   "pygments_lexer": "ipython3",
   "version": "3.8.5"
  }
 },
 "nbformat": 4,
 "nbformat_minor": 5
}
