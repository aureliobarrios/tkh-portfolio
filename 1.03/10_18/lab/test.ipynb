{
 "cells": [
  {
   "cell_type": "code",
   "execution_count": 7,
   "metadata": {},
   "outputs": [
    {
     "name": "stdout",
     "output_type": "stream",
     "text": [
      "['3/2/2020', ' 97.697502', ' 95.449501', ' 98.791496', ' 96.2015', ' 95.054497']\n",
      "['3/9/2020', ' 90.030502', ' 94.591003', ' 91.042999', ' 83.830498', ' 89.25']\n",
      "['3/16/2020', ' 84.457497', ' 90.391998', ' 91.5', ' 94.046501', ' 92.304497']\n",
      "['3/23/2020', ' 95.141502', ' 97.004997', ' 94.292', ' 97.774498', ' 95.004997']\n",
      "['3/30/2020', ' 98.197502', ' 97.486', ' 95.385002', ' 95.941498', ' 95.329498']\n",
      "['4/6/2020', ' 99.879501', ' 100.580002', ' 102.150002', ' 102.138', ' ']\n",
      "['4/13/2020', ' 108.443497', ' 114.166', ' 115.384003', ' 120.4095', ' 118.75']\n",
      "['4/20/2020', ' 119.680496', ' 116.405998', ' 118.1745', ' 119.972504', ' 120.511002']\n",
      "['4/27/2020', ' 118.800003', ' 115.704002', ' 118.635498', ' ', '']\n"
     ]
    }
   ],
   "source": [
    "fp = \"../lab/data/amzn.csv\"\n",
    "\n",
    "import csv\n",
    "\n",
    "with open(fp, 'r') as file:\n",
    "  reader = csv.reader(file)\n",
    "  next(reader)\n",
    "  for row in reader:\n",
    "    print(row)\n"
   ]
  },
  {
   "cell_type": "code",
   "execution_count": 9,
   "metadata": {},
   "outputs": [],
   "source": [
    "from StockData import *"
   ]
  },
  {
   "cell_type": "code",
   "execution_count": 10,
   "metadata": {},
   "outputs": [],
   "source": [
    "sd = StockData(\"../lab/data/amzn.csv\")\n",
    "sd.read_csv()"
   ]
  },
  {
   "cell_type": "code",
   "execution_count": 16,
   "metadata": {},
   "outputs": [
    {
     "name": "stdout",
     "output_type": "stream",
     "text": [
      "5\n",
      "5\n",
      "5\n",
      "5\n",
      "5\n",
      "4\n",
      "5\n",
      "5\n",
      "3\n"
     ]
    }
   ],
   "source": [
    "for row in sd.data:\n",
    "    print(len([x for x in row[1:] if len(x.strip(\" \")) > 0]))"
   ]
  },
  {
   "cell_type": "code",
   "execution_count": 18,
   "metadata": {},
   "outputs": [
    {
     "data": {
      "text/plain": [
       "['4/6/2020', ' 99.879501', ' 100.580002', ' 102.150002', ' 102.138', ' ']"
      ]
     },
     "execution_count": 18,
     "metadata": {},
     "output_type": "execute_result"
    }
   ],
   "source": []
  },
  {
   "cell_type": "code",
   "execution_count": null,
   "metadata": {},
   "outputs": [],
   "source": []
  }
 ],
 "metadata": {
  "kernelspec": {
   "display_name": "Python 3",
   "language": "python",
   "name": "python3"
  },
  "language_info": {
   "codemirror_mode": {
    "name": "ipython",
    "version": 3
   },
   "file_extension": ".py",
   "mimetype": "text/x-python",
   "name": "python",
   "nbconvert_exporter": "python",
   "pygments_lexer": "ipython3",
   "version": "3.8.2"
  }
 },
 "nbformat": 4,
 "nbformat_minor": 2
}
