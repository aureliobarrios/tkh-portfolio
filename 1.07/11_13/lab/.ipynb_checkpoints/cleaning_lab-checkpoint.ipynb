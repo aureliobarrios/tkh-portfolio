{
 "cells": [
  {
   "cell_type": "markdown",
   "metadata": {},
   "source": [
    "## Data Cleaning Lab I\n",
    "\n",
    "For this lab, you will begin work on your 4th TLAB. The dataset for this lab is in the `../../data/shopping.csv` file. \n",
    "\n",
    "The goals for this process include:\n",
    "\n",
    "* dropping rows with missing data\n",
    "* dropping columns with overwhelmingly missing data\n",
    "\n",
    "After you've completed this process, answer the questions underneath `Data Cleaning Lab II` in your own words."
   ]
  },
  {
   "cell_type": "code",
   "execution_count": 1,
   "metadata": {},
   "outputs": [],
   "source": [
    "import pandas as pd\n",
    "import numpy as np"
   ]
  },
  {
   "cell_type": "code",
   "execution_count": 2,
   "metadata": {},
   "outputs": [],
   "source": [
    "# TODO: load `data/raw/shopping.csv` as a pandas dataframe\n",
    "\n",
    "df = pd.read_csv(\"../data/shopping.csv\")"
   ]
  },
  {
   "cell_type": "code",
   "execution_count": 3,
   "metadata": {},
   "outputs": [
    {
     "data": {
      "text/plain": [
       "(3900, 15)"
      ]
     },
     "execution_count": 3,
     "metadata": {},
     "output_type": "execute_result"
    }
   ],
   "source": [
    "# TODO: print out the shape of this dataframe for better clarity\n",
    "# Documentation: https://pandas.pydata.org/docs/reference/api/pandas.DataFrame.shape.html\n",
    "\n",
    "df.shape"
   ]
  },
  {
   "cell_type": "code",
   "execution_count": 4,
   "metadata": {},
   "outputs": [
    {
     "data": {
      "text/plain": [
       "Customer ID                  0\n",
       "Age                        390\n",
       "Gender                       0\n",
       "Item Purchased               0\n",
       "Purchase Amount (USD)        0\n",
       "Location                   390\n",
       "Size                         0\n",
       "Color                        0\n",
       "Season                       0\n",
       "Review Rating             2469\n",
       "Shipping Type                0\n",
       "Promo Code Used              0\n",
       "Previous Purchases           0\n",
       "Payment Method               0\n",
       "Frequency of Purchases    2340\n",
       "dtype: int64"
      ]
     },
     "execution_count": 4,
     "metadata": {},
     "output_type": "execute_result"
    }
   ],
   "source": [
    "# TODO: display how many null values are in each column of this dataframe\n",
    "# Documentation: https://datatofish.com/count-nan-pandas-dataframe/\n",
    "\n",
    "df.isna().sum()"
   ]
  },
  {
   "cell_type": "code",
   "execution_count": 5,
   "metadata": {},
   "outputs": [],
   "source": [
    "# TODO: it looks like there is roughly 65% of data missing \"Frequency of Purchases\". Drop this column, as it is mostly empty and unneeded for our analysis.\n",
    "# In addition, also drop \"Customer ID\" as this column is also unnecessary\n",
    "# Reassign this dropped dataframe as a new variable\n",
    "# Documentation: drive.google.com/drive/folders/1pAWY1JqIQw26uhtT272AoDDeq7jtbkm2\n",
    "\n",
    "df_new = df.drop(['Frequency of Purchases', 'Customer ID'], axis=1)"
   ]
  },
  {
   "cell_type": "code",
   "execution_count": 6,
   "metadata": {},
   "outputs": [
    {
     "data": {
      "text/plain": [
       "(3900, 13)"
      ]
     },
     "execution_count": 6,
     "metadata": {},
     "output_type": "execute_result"
    }
   ],
   "source": [
    "# TODO: print out the shape of this dataframe and verify that the shape is \"(3900, 13)\"\n",
    "\n",
    "df_new.shape"
   ]
  },
  {
   "cell_type": "code",
   "execution_count": 7,
   "metadata": {},
   "outputs": [
    {
     "data": {
      "text/plain": [
       "<AxesSubplot:>"
      ]
     },
     "execution_count": 7,
     "metadata": {},
     "output_type": "execute_result"
    },
    {
     "data": {
      "image/png": "[encoded data removed]",
      "text/plain": [
       "<Figure size 432x288 with 1 Axes>"
      ]
     },
     "metadata": {
      "needs_background": "light"
     },
     "output_type": "display_data"
    }
   ],
   "source": [
    "# TODO: Display a histogram using the \"Age\" column\n",
    "\n",
    "df['Age'].hist()"
   ]
  },
  {
   "cell_type": "code",
   "execution_count": 8,
   "metadata": {},
   "outputs": [
    {
     "data": {
      "text/plain": [
       "<AxesSubplot:>"
      ]
     },
     "execution_count": 8,
     "metadata": {},
     "output_type": "execute_result"
    },
    {
     "data": {
      "image/png": "[encoded data removed]",
      "text/plain": [
       "<Figure size 432x288 with 1 Axes>"
      ]
     },
     "metadata": {
      "needs_background": "light"
     },
     "output_type": "display_data"
    }
   ],
   "source": [
    "# TODO: Display a histogram using the \"Purchase Amount (USD)\" column\n",
    "\n",
    "df['Purchase Amount (USD)'].hist()"
   ]
  },
  {
   "cell_type": "code",
   "execution_count": 9,
   "metadata": {},
   "outputs": [
    {
     "data": {
      "text/plain": [
       "<AxesSubplot:>"
      ]
     },
     "execution_count": 9,
     "metadata": {},
     "output_type": "execute_result"
    },
    {
     "data": {
      "image/png": "[encoded data removed]",
      "text/plain": [
       "<Figure size 432x288 with 1 Axes>"
      ]
     },
     "metadata": {
      "needs_background": "light"
     },
     "output_type": "display_data"
    }
   ],
   "source": [
    "# TODO: Display a histogram using the \"Review Rating\" column\n",
    "\n",
    "df['Review Rating'].hist()"
   ]
  },
  {
   "cell_type": "code",
   "execution_count": 10,
   "metadata": {},
   "outputs": [
    {
     "data": {
      "text/plain": [
       "<AxesSubplot:>"
      ]
     },
     "execution_count": 10,
     "metadata": {},
     "output_type": "execute_result"
    },
    {
     "data": {
      "image/png": "[encoded data removed]",
      "text/plain": [
       "<Figure size 432x288 with 1 Axes>"
      ]
     },
     "metadata": {
      "needs_background": "light"
     },
     "output_type": "display_data"
    }
   ],
   "source": [
    "# TODO: Display a histogram using the \"Previous Purchases\" column\n",
    "\n",
    "df['Previous Purchases'].hist()"
   ]
  },
  {
   "cell_type": "markdown",
   "metadata": {},
   "source": [
    "## Data Cleaning Lab II\n",
    "\n",
    "In the next section, answer a few questions regarding your dataset using the visualizations & output you've generated."
   ]
  },
  {
   "cell_type": "markdown",
   "metadata": {},
   "source": [
    "### Q1\n",
    "\n",
    "What kind of distribution do we observe in the \"Age\" column? Do these outliers represent errors? Why or why not?"
   ]
  },
  {
   "cell_type": "markdown",
   "metadata": {},
   "source": [
    "The 'Age' column is right skewed and the outliers do not represent errors because they make sense i.e. someone could be around the age of 70."
   ]
  },
  {
   "cell_type": "markdown",
   "metadata": {},
   "source": [
    "### Q2\n",
    "\n",
    "What kind of distribution do we observe in the \"Purchase Amount (USD)\" column? Do these outliers represent errors? Why or why not?"
   ]
  },
  {
   "cell_type": "markdown",
   "metadata": {},
   "source": [
    "The 'Purchase Amount (USD)' column is a bimodal distribution. The outliers do not represent errors because in this case as well all our values make sense within the context of the column."
   ]
  },
  {
   "cell_type": "markdown",
   "metadata": {},
   "source": [
    "### Q3\n",
    "\n",
    "What kind of variable is the \"Review Rating\" column? Why does this variable-type make sense given the context of a review?"
   ]
  },
  {
   "cell_type": "markdown",
   "metadata": {},
   "source": [
    "The 'Review Rating' column is an ordinal variable and it make sense because ratings are given from 1-5 where 1 is the least and 5 is the greatest rating. "
   ]
  },
  {
   "cell_type": "markdown",
   "metadata": {},
   "source": [
    "### Q4\n",
    "\n",
    "Using the \"Previous Purchases\" histogram, what do we notice about this distribution? Where are most values located? Do we notice any patterns?"
   ]
  },
  {
   "cell_type": "markdown",
   "metadata": {},
   "source": [
    "The most values are located within the 0 and 1 amount of previous purchases. We notice that this distribution is skewed to the right."
   ]
  },
  {
   "cell_type": "markdown",
   "metadata": {},
   "source": [
    "### Q5\n",
    "\n",
    "Make an assumption on the typical shopper on this dataset. What is the typical shoppers Age, Purchase Amount, Review, and amount of Previous Purchases? Base your assumptions on your histograms."
   ]
  },
  {
   "cell_type": "markdown",
   "metadata": {},
   "source": [
    "The typical shoppers Age is around 35, spending around 30 or 50 dollars (USD) depending on if a promo code was being used. The shopper typically leaves a 4 rating review and has zero previous purchases. "
   ]
  },
  {
   "cell_type": "code",
   "execution_count": null,
   "metadata": {},
   "outputs": [],
   "source": []
  }
 ],
 "metadata": {
  "kernelspec": {
   "display_name": "Python 3",
   "language": "python",
   "name": "python3"
  },
  "language_info": {
   "codemirror_mode": {
    "name": "ipython",
    "version": 3
   },
   "file_extension": ".py",
   "mimetype": "text/x-python",
   "name": "python",
   "nbconvert_exporter": "python",
   "pygments_lexer": "ipython3",
   "version": "3.8.5"
  }
 },
 "nbformat": 4,
 "nbformat_minor": 2
}
