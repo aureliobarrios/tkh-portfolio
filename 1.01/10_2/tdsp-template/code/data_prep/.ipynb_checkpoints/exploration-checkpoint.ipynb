{
 "cells": [
  {
   "cell_type": "markdown",
   "metadata": {},
   "source": [
    "# Exploratory Data Analysis\n",
    "\n",
    "Exploratory data analysis describes the process of exploring relationships through numeric and visual output. \n",
    "\n",
    "[EDA Article](https://www.epa.gov/caddis-vol4/exploratory-data-analysis)\n",
    "\n",
    "[Python EDA](https://www.digitalocean.com/community/tutorials/exploratory-data-analysis-python)"
   ]
  }
 ],
 "metadata": {
  "kernelspec": {
   "display_name": "Python 3",
   "language": "python",
   "name": "python3"
  },
  "language_info": {
   "codemirror_mode": {
    "name": "ipython",
    "version": 3
   },
   "file_extension": ".py",
   "mimetype": "text/x-python",
   "name": "python",
   "nbconvert_exporter": "python",
   "pygments_lexer": "ipython3",
   "version": "3.8.5"
  }
 },
 "nbformat": 4,
 "nbformat_minor": 2
}
