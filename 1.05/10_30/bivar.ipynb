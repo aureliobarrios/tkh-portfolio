{
 "cells": [
  {
   "cell_type": "code",
   "execution_count": 20,
   "metadata": {},
   "outputs": [],
   "source": [
    "import numpy as np\n",
    "import statsmodels as stats\n",
    "import matplotlib.pyplot as plt\n",
    "import pandas as pd\n",
    "\n"
   ]
  },
  {
   "cell_type": "code",
   "execution_count": 21,
   "metadata": {},
   "outputs": [],
   "source": [
    "# Generate 2 pairs of 20 datapoints\n",
    "# np.random.normal generates on the following parameters (mean, scale, size of array)\n",
    "# We are making (2, 20) array of data which is 2 columns of 20 datapoints\n",
    "\n",
    "data = np.random.normal(0, 1, (2,20))"
   ]
  },
  {
   "cell_type": "code",
   "execution_count": 22,
   "metadata": {},
   "outputs": [
    {
     "data": {
      "text/plain": [
       "array([[ 0.35934346,  1.77792647, -1.24405635,  1.13200039, -0.91122372,\n",
       "         0.74176907,  1.86329434,  0.54094142, -1.2400709 ,  0.01747054,\n",
       "         0.12931967, -0.98421481, -0.29365899,  0.09898087, -0.19491025,\n",
       "        -2.21927344,  0.87101768,  1.33699053, -0.02120113,  0.49977816],\n",
       "       [-1.20388083,  0.47839617, -1.28902337, -0.81511732,  0.81899696,\n",
       "        -0.87943584, -0.71060484,  0.13457426, -0.07074728, -0.66826823,\n",
       "        -0.7199134 ,  0.73664022, -0.37860445,  1.53561551, -1.39219895,\n",
       "         2.61612346, -0.77129816, -1.87344201,  1.17371733,  0.73316941]])"
      ]
     },
     "execution_count": 22,
     "metadata": {},
     "output_type": "execute_result"
    }
   ],
   "source": [
    "# see what the arrays look like\n",
    "# it should be an array that is a list of lists\n",
    "\n",
    "data"
   ]
  },
  {
   "cell_type": "code",
   "execution_count": 26,
   "metadata": {},
   "outputs": [
    {
     "data": {
      "image/png": "[encoded data removed]",
      "text/plain": [
       "<Figure size 432x288 with 1 Axes>"
      ]
     },
     "metadata": {
      "needs_background": "light"
     },
     "output_type": "display_data"
    }
   ],
   "source": [
    "# Plot the data using plt.scatter()\n",
    "# Hint: you may need to index the data array!\n",
    "\n",
    "plt.scatter(data[0], data[1])\n",
    "plt.show()"
   ]
  },
  {
   "cell_type": "code",
   "execution_count": 27,
   "metadata": {},
   "outputs": [],
   "source": [
    "# define our x and y using the 2 columns of data \n",
    "x = data[0]\n",
    "y = data[1]"
   ]
  },
  {
   "cell_type": "code",
   "execution_count": 35,
   "metadata": {},
   "outputs": [],
   "source": [
    "top = sum((x - np.mean(x)) * (y - np.mean(y)))"
   ]
  },
  {
   "cell_type": "code",
   "execution_count": 36,
   "metadata": {},
   "outputs": [],
   "source": [
    "bottom = np.sqrt(sum((x - np.mean(x)) ** 2)) * np.sqrt(sum((y - np.mean(y)) ** 2))"
   ]
  },
  {
   "cell_type": "code",
   "execution_count": 38,
   "metadata": {},
   "outputs": [],
   "source": [
    "rcoff = top / bottom"
   ]
  },
  {
   "cell_type": "code",
   "execution_count": 39,
   "metadata": {},
   "outputs": [
    {
     "data": {
      "text/plain": [
       "-0.44206504872550967"
      ]
     },
     "execution_count": 39,
     "metadata": {},
     "output_type": "execute_result"
    }
   ],
   "source": [
    "rcoff"
   ]
  },
  {
   "cell_type": "code",
   "execution_count": 28,
   "metadata": {},
   "outputs": [
    {
     "data": {
      "text/plain": [
       "array([[ 1.        , -0.44206505],\n",
       "       [-0.44206505,  1.        ]])"
      ]
     },
     "execution_count": 28,
     "metadata": {},
     "output_type": "execute_result"
    }
   ],
   "source": [
    "# do all the necessary calculations to get the correlation coefficient\n",
    "# use either numpy or statistics package\n",
    "# we will leave you to do it on your own and find your own way\n",
    "\n",
    "# Here are some ideas for what you might want to use but these are not the only way!\n",
    "# np.sqrt()\n",
    "# np.mean()\n",
    "# sum()\n",
    "# for loops\n",
    "# range()\n",
    "np.corrcoef(x, y=y)"
   ]
  },
  {
   "cell_type": "code",
   "execution_count": 40,
   "metadata": {},
   "outputs": [
    {
     "data": {
      "text/html": [
       "<div>\n",
       "<style scoped>\n",
       "    .dataframe tbody tr th:only-of-type {\n",
       "        vertical-align: middle;\n",
       "    }\n",
       "\n",
       "    .dataframe tbody tr th {\n",
       "        vertical-align: top;\n",
       "    }\n",
       "\n",
       "    .dataframe thead th {\n",
       "        text-align: right;\n",
       "    }\n",
       "</style>\n",
       "<table border=\"1\" class=\"dataframe\">\n",
       "  <thead>\n",
       "    <tr style=\"text-align: right;\">\n",
       "      <th></th>\n",
       "      <th>col_1</th>\n",
       "      <th>col_2</th>\n",
       "    </tr>\n",
       "  </thead>\n",
       "  <tbody>\n",
       "    <tr>\n",
       "      <th>0</th>\n",
       "      <td>0.359343</td>\n",
       "      <td>-1.203881</td>\n",
       "    </tr>\n",
       "    <tr>\n",
       "      <th>1</th>\n",
       "      <td>1.777926</td>\n",
       "      <td>0.478396</td>\n",
       "    </tr>\n",
       "    <tr>\n",
       "      <th>2</th>\n",
       "      <td>-1.244056</td>\n",
       "      <td>-1.289023</td>\n",
       "    </tr>\n",
       "    <tr>\n",
       "      <th>3</th>\n",
       "      <td>1.132000</td>\n",
       "      <td>-0.815117</td>\n",
       "    </tr>\n",
       "    <tr>\n",
       "      <th>4</th>\n",
       "      <td>-0.911224</td>\n",
       "      <td>0.818997</td>\n",
       "    </tr>\n",
       "  </tbody>\n",
       "</table>\n",
       "</div>"
      ],
      "text/plain": [
       "      col_1     col_2\n",
       "0  0.359343 -1.203881\n",
       "1  1.777926  0.478396\n",
       "2 -1.244056 -1.289023\n",
       "3  1.132000 -0.815117\n",
       "4 -0.911224  0.818997"
      ]
     },
     "execution_count": 40,
     "metadata": {},
     "output_type": "execute_result"
    }
   ],
   "source": [
    "### Now do it in pandas\n",
    "## We will create the dataframe for you, but pay close attention to how\n",
    "df = pd.DataFrame({'col_1': data[0], 'col_2': data[1]})\n",
    "df.head()"
   ]
  },
  {
   "cell_type": "code",
   "execution_count": 41,
   "metadata": {},
   "outputs": [
    {
     "data": {
      "image/png": "[encoded data removed]",
      "text/plain": [
       "<Figure size 432x288 with 1 Axes>"
      ]
     },
     "metadata": {
      "needs_background": "light"
     },
     "output_type": "display_data"
    }
   ],
   "source": [
    "## When plotting a scatterplot, we just choose the name of the columns\n",
    "## Since these are not variables, make sure to write column names as strings\n",
    "\n",
    "df.plot(x=\"col_1\", y=\"col_2\", kind='scatter');"
   ]
  },
  {
   "cell_type": "code",
   "execution_count": 42,
   "metadata": {},
   "outputs": [
    {
     "data": {
      "text/html": [
       "<div>\n",
       "<style scoped>\n",
       "    .dataframe tbody tr th:only-of-type {\n",
       "        vertical-align: middle;\n",
       "    }\n",
       "\n",
       "    .dataframe tbody tr th {\n",
       "        vertical-align: top;\n",
       "    }\n",
       "\n",
       "    .dataframe thead th {\n",
       "        text-align: right;\n",
       "    }\n",
       "</style>\n",
       "<table border=\"1\" class=\"dataframe\">\n",
       "  <thead>\n",
       "    <tr style=\"text-align: right;\">\n",
       "      <th></th>\n",
       "      <th>col_1</th>\n",
       "      <th>col_2</th>\n",
       "    </tr>\n",
       "  </thead>\n",
       "  <tbody>\n",
       "    <tr>\n",
       "      <th>col_1</th>\n",
       "      <td>1.000000</td>\n",
       "      <td>-0.442065</td>\n",
       "    </tr>\n",
       "    <tr>\n",
       "      <th>col_2</th>\n",
       "      <td>-0.442065</td>\n",
       "      <td>1.000000</td>\n",
       "    </tr>\n",
       "  </tbody>\n",
       "</table>\n",
       "</div>"
      ],
      "text/plain": [
       "          col_1     col_2\n",
       "col_1  1.000000 -0.442065\n",
       "col_2 -0.442065  1.000000"
      ]
     },
     "execution_count": 42,
     "metadata": {},
     "output_type": "execute_result"
    }
   ],
   "source": [
    "# we will use the df.corr() function\n",
    "# it compares the correlaton of each column to other columns\n",
    "# column1 will always have 1.0 correlation to itself (top left, [0,0])\n",
    "# column2 will always have 1.0 correlation to iteself (bottom right, [1,1])\n",
    "\n",
    "\n",
    "## Did you do the math right? Does your correlation match this correlation?\n",
    "\n",
    "df.corr()"
   ]
  },
  {
   "cell_type": "code",
   "execution_count": null,
   "metadata": {},
   "outputs": [],
   "source": []
  }
 ],
 "metadata": {
  "kernelspec": {
   "display_name": "Python 3",
   "language": "python",
   "name": "python3"
  },
  "language_info": {
   "codemirror_mode": {
    "name": "ipython",
    "version": 3
   },
   "file_extension": ".py",
   "mimetype": "text/x-python",
   "name": "python",
   "nbconvert_exporter": "python",
   "pygments_lexer": "ipython3",
   "version": "3.8.5"
  }
 },
 "nbformat": 4,
 "nbformat_minor": 2
}
